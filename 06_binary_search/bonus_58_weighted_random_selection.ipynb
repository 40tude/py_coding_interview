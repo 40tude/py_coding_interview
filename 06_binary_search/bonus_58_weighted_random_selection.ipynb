{
 "cells": [
  {
   "cell_type": "markdown",
   "metadata": {},
   "source": [
    "Keep on the side : \n",
    "* **1 - Search space**\n",
    "* **2 - Narrow search space**\n",
    "* **3 - Choose an exit condition for the while loop**\n",
    "* **4 - Return the correct value**\n"
   ]
  },
  {
   "cell_type": "markdown",
   "metadata": {},
   "source": [
    "* Given a rotated sorted array of unique numbers, return the index of a target value (-1 otherwise)\n",
    "* A rotated sorted array is an ascending sorted array where a portion slide from the front to the back\n",
    "* [1, 2, 3, 4, 5] => [3, 4, 5, 1, 2]\n",
    "\n",
    "<span style=\"color:orange\"><b>The point:</b></span>\n",
    "\n",
    "* Use the sorted subarray [left, mid] or [mid, right] to determine where to target is\n",
    "\n",
    "\n",
    "Brute force takes linear time\n",
    "We know the array is sorted and rotated\n",
    "\n",
    "\n",
    "* **1 - Search space**\n",
    "    * [0, n-1]\n",
    "* **2 - Narrow search space**\n",
    "    * p 124\n",
    "    * [left:mid] is sorted\n",
    "        1. if the target is in [left, mid[ then right = mid - 1\n",
    "        1. otherwise (if target is not in [left, mid[) then left = mid + 1\n",
    "    * [mid:right] is sorted\n",
    "        1. if the target is in ]mid, right] then left = mid + 1\n",
    "        1. otherwise (if target is not in ]mid, left]) then right = mid -1\n",
    "* **3 - Choose an exit condition for the while loop**\n",
    "* **4 - Return the correct value**\n",
    "\n",
    "\n",
    "**Complexity :**\n",
    "\n",
    "| Time | Space |\n",
    "|------|-------|\n",
    "| O(log(n)) | O(1)  |\n",
    "\n",
    "* O(log(n)) because the search space is of size n\n",
    "* O(1) because in place "
   ]
  },
  {
   "cell_type": "code",
   "execution_count": null,
   "metadata": {},
   "outputs": [
    {
     "name": "stdout",
     "output_type": "stream",
     "text": [
      "2\n"
     ]
    }
   ],
   "source": [
    "def find_the_target_in_rotated_sorted_array(nums:list[int], target:int) ->int:\n",
    "    left, right = 0, len(nums) -1\n",
    "    while left < right:\n",
    "        mid = left + (right - left) // 2\n",
    "        if nums[mid] == target:\n",
    "            return mid\n",
    "        # if the left subarray is sorted check if the target falls in this range\n",
    "        # yes => search in the left subarray\n",
    "        # no => search in the right subarray\n",
    "        elif nums[left]<=nums[mid]:\n",
    "            if nums[left] <= target and target < nums[mid]:\n",
    "                right = mid -1 \n",
    "            else:\n",
    "                left = mid + 1\n",
    "        # if the right subarray is sorted check if the target falls in this range\n",
    "        # yes => search in the right subarray   \n",
    "        # no => search in the left subarray\n",
    "        else:\n",
    "            if nums[mid] < target <= nums[right]:\n",
    "                left = mid + 1\n",
    "            else:\n",
    "                right = mid - 1\n",
    "\n",
    "    return left if nums and nums[left] == target else -1\n",
    "\n",
    "\n",
    "print(find_the_target_in_rotated_sorted_array([8, 9, 1, 2, 3, 4, 5, 6, 7], 1)) # 2"
   ]
  }
 ],
 "metadata": {
  "kernelspec": {
   "display_name": "jedha",
   "language": "python",
   "name": "python3"
  },
  "language_info": {
   "codemirror_mode": {
    "name": "ipython",
    "version": 3
   },
   "file_extension": ".py",
   "mimetype": "text/x-python",
   "name": "python",
   "nbconvert_exporter": "python",
   "pygments_lexer": "ipython3",
   "version": "3.12.3"
  }
 },
 "nbformat": 4,
 "nbformat_minor": 2
}
