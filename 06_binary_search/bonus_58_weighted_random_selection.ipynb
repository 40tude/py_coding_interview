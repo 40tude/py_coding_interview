{
 "cells": [
  {
   "cell_type": "markdown",
   "metadata": {},
   "source": [
    "# <span style=\"color:orange\"><b>REVIEW</b></span>\n"
   ]
  },
  {
   "cell_type": "markdown",
   "metadata": {},
   "source": [
    "Keep on the side : \n",
    "* **1 - Search space**\n",
    "* **2 - Narrow search space**\n",
    "* **3 - Choose an exit condition for the while loop**\n",
    "* **4 - Return the correct value**\n"
   ]
  },
  {
   "cell_type": "markdown",
   "metadata": {},
   "source": [
    "* Given an array of items, each with a corresponding weight\n",
    "* Implement a function that randomly selects an item from the array, where the probability of selecting any item is proportional to its weight.\n",
    "    * => the probability of picking the item at index i is weights[i] / sum(weights)\n",
    "* Return the index of the selected item\n",
    "\n",
    "\n",
    "\n",
    "<span style=\"color:orange\"><b>The point:</b></span>\n",
    "\n",
    "* Store only the end points (n values) of each segment p60\n",
    "* the endpoint of a segment is equal to the length of all previous segments, plus the length of the current segment\n",
    "* see prefix_sums[]\n",
    "\n",
    "* **1 - Search space**\n",
    "    * [0, n-1]\n",
    "* **2 - Narrow search space**\n",
    "    * p 62\n",
    "    * we’re looking for the lower-bound prefix sum which satisfies the condition prefix_sums[mid] ≥ target\n",
    "    \n",
    "* **3 - Choose an exit condition for the while loop**\n",
    "    * while left < right\n",
    "* **4 - Return the correct value**\n",
    "    * left\n",
    "\n",
    "\n",
    "**Complexity :**\n",
    "\n",
    "| Time             | Space |\n",
    "|------------------|-------|\n",
    "| O(n) constructor |       |\n",
    "| O(log(n)) select | O(1)  |\n",
    "\n",
    "* 0(n) because iteration over each weight\n",
    "* O(log(n)) because the search space is of size n\n",
    "* O(1) because in place "
   ]
  },
  {
   "cell_type": "code",
   "execution_count": null,
   "metadata": {},
   "outputs": [
    {
     "name": "stdout",
     "output_type": "stream",
     "text": [
      "325\n"
     ]
    }
   ],
   "source": [
    "import random\n",
    "\n",
    "\n",
    "class WeightedRandomSelection:\n",
    "    def __init__(self, weights: list[int]):\n",
    "        self.prefix_sums = [weights[0]]\n",
    "        for i in range(1, len(weights)):\n",
    "            self.prefix_sums.append(self.prefix_sums[-1] + weights[i])\n",
    "\n",
    "    def select(self) -> int:\n",
    "        # Pick a random target between 1 and the largest possible endpoint.\n",
    "        target = random.randint(1, self.prefix_sums[-1])\n",
    "        left, right = 0, len(self.prefix_sums) - 1\n",
    "        # Perform lower-bound binary search to find which endpoint corresponds to the target.\n",
    "        while left < right:\n",
    "            mid = (left + right) // 2\n",
    "            if self.prefix_sums[mid] < target:\n",
    "                left = mid + 1\n",
    "            else:\n",
    "                right = mid\n",
    "        return left\n",
    "\n",
    "wrs =   WeightedRandomSelection([3, 1, 2, 4]) \n",
    "count=0\n",
    "for _ in range(1_000):\n",
    "    if wrs.select() == 0:\n",
    "        count+=1\n",
    "print(count) # expected 300 = 30% of 1_000 since 3/(3+1+2+4) = 30%\n"
   ]
  }
 ],
 "metadata": {
  "kernelspec": {
   "display_name": "jedha",
   "language": "python",
   "name": "python3"
  },
  "language_info": {
   "codemirror_mode": {
    "name": "ipython",
    "version": 3
   },
   "file_extension": ".py",
   "mimetype": "text/x-python",
   "name": "python",
   "nbconvert_exporter": "python",
   "pygments_lexer": "ipython3",
   "version": "3.12.3"
  }
 },
 "nbformat": 4,
 "nbformat_minor": 2
}
