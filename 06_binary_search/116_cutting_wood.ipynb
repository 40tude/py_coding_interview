{
 "cells": [
  {
   "cell_type": "markdown",
   "metadata": {},
   "source": [
    "Keep on the side : \n",
    "* **1 - Search space**\n",
    "* **2 - Narrow search space**\n",
    "* **3 - Choose an exit condition for the while loop**\n",
    "* **4 - Return the correct value**\n"
   ]
  },
  {
   "cell_type": "markdown",
   "metadata": {},
   "source": [
    "* Given an array representing the heights of trees and k an integer representing the lenght of wood to be cut\n",
    "* H the height of the cutting machine which cut top part of the trees  \n",
    "* Determine the highest H value to cut at least k m of wood\n",
    "\n",
    "\n",
    "<span style=\"color:orange\"><b>The point:</b></span>\n",
    "\n",
    "* binary search problem where the search space **does not** encompass the input array\n",
    "* p 118  \n",
    "    1. we move form the space of trees heights to the space of heights of cutting tool (H) \n",
    "    1. this space is effectively sorted (True, False) so that we can use binary search\n",
    "    1. we search for the upper bound where the condition is True\n",
    "* search for upper bound => biased mid = 1 + (left+right)//2\n",
    "\n",
    "\n",
    "\n",
    "Method\n",
    "\n",
    "* **1 - Search space**\n",
    "    * H [0, height of tallest tree]\n",
    "\n",
    "* **2 - Narrow search space**\n",
    "    * if val @ mid < target => right = mid - 1\n",
    "    * if val @ mid >= target => left = mid \n",
    "* **3 - Choose an exit condition for the while loop**\n",
    "    * when left == right\n",
    "* **4 - Return the correct value**\n",
    "    * left or right\n",
    "\n",
    "\n",
    "**Complexity :**\n",
    "\n",
    "| Time | Space |\n",
    "|------|-------|\n",
    "| O(log(n)) | O(1)  |\n",
    "\n",
    "* O(log(n)) because the search space is of size n\n",
    "* O(1) because in place "
   ]
  },
  {
   "cell_type": "code",
   "execution_count": 2,
   "metadata": {},
   "outputs": [
    {
     "name": "stdout",
     "output_type": "stream",
     "text": [
      "3\n"
     ]
    }
   ],
   "source": [
    "def upper_bound_binary_search(heights:list[int], k:int) ->int:\n",
    "    left, right = 0, max(heights)\n",
    "    while left < right:\n",
    "        mid = 1 + left + (right - left) // 2\n",
    "        if cuts_enough_wood(mid, k ,heights):\n",
    "            left = mid\n",
    "        else:\n",
    "            right = mid - 1\n",
    "    return right \n",
    "\n",
    "def cuts_enough_wood(H : int, k:int, heights:list[int]) -> bool:\n",
    "    wood_collected = 0\n",
    "    for height in heights:\n",
    "        if height > H:\n",
    "            wood_collected += height - H\n",
    "    return wood_collected >= k\n",
    "\n",
    "\n",
    "print(upper_bound_binary_search([2, 6, 3, 8], 7)) # 3"
   ]
  }
 ],
 "metadata": {
  "kernelspec": {
   "display_name": "jedha",
   "language": "python",
   "name": "python3"
  },
  "language_info": {
   "codemirror_mode": {
    "name": "ipython",
    "version": 3
   },
   "file_extension": ".py",
   "mimetype": "text/x-python",
   "name": "python",
   "nbconvert_exporter": "python",
   "pygments_lexer": "ipython3",
   "version": "3.12.3"
  }
 },
 "nbformat": 4,
 "nbformat_minor": 2
}
