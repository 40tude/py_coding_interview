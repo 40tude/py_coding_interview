{
 "cells": [
  {
   "cell_type": "markdown",
   "metadata": {},
   "source": [
    "# <span style=\"color:orange\"><b>REVIEW</b></span>"
   ]
  },
  {
   "cell_type": "markdown",
   "metadata": {},
   "source": [
    "Keep on the side : \n",
    "* **1 - Search space**\n",
    "* **2 - Narrow search space**\n",
    "* **3 - Choose an exit condition for the while loop**\n",
    "* **4 - Return the correct value**\n"
   ]
  },
  {
   "cell_type": "markdown",
   "metadata": {},
   "source": [
    "* Given two sorted integer arrays, find their median value as if they were merged into a single sorted sequence \n",
    "    * once merge they would be sorted\n",
    "\n",
    "<span style=\"color:orange\"><b>The point:</b></span>\n",
    "\n",
    "* Use the sorted subarray [left, mid] or [mid, right] to determine where to target is\n",
    "\n",
    "\n",
    "Brute force\n",
    "* merge arrays then find the median => O((m+n)*log(m+n))\n",
    "* O(m+n) is the merge is sorted\n",
    "\n",
    "\n",
    "<!-- * **1 - Search space**\n",
    "    * [0, n-1]\n",
    "* **2 - Narrow search space**\n",
    "    * p 124\n",
    "    * [left:mid] is sorted\n",
    "        1. if the target is in [left, mid[ then right = mid - 1\n",
    "        1. otherwise (if target is not in [left, mid[) then left = mid + 1\n",
    "    * [mid:right] is sorted\n",
    "        1. if the target is in ]mid, right] then left = mid + 1\n",
    "        1. otherwise (if target is not in ]mid, left]) then right = mid -1\n",
    "* **3 - Choose an exit condition for the while loop**\n",
    "* **4 - Return the correct value**\n",
    " -->\n",
    "\n",
    "**Complexity :**\n",
    "\n",
    "| Time | Space |\n",
    "|------|-------|\n",
    "| O(log(min(m,n))) | O(1)  |\n",
    "\n",
    "* O(log(min(m,n))) because the binary search on the smaller array\n",
    "* O(1) because in place "
   ]
  },
  {
   "cell_type": "code",
   "execution_count": 4,
   "metadata": {},
   "outputs": [
    {
     "name": "stdout",
     "output_type": "stream",
     "text": [
      "4.0\n",
      "5\n"
     ]
    }
   ],
   "source": [
    "def find_the_median_from_two_sorted_arrays(nums1: list[int], nums2: list[int]) -> float:\n",
    "\n",
    "    # Optimization: ensure 'nums1' is the smaller array.\n",
    "    if len(nums2) < len(nums1):\n",
    "        nums1, nums2 = nums2, nums1\n",
    "\n",
    "    m, n = len(nums1), len(nums2)\n",
    "    half_total_len = (m + n) // 2\n",
    "    left, right = 0, m - 1\n",
    "    # A median always exists in a non-empty array, so continue binary search until it’s found.\n",
    "    while True:\n",
    "        L1_index = (left + right) // 2\n",
    "        L2_index = half_total_len - (L1_index + 1) - 1\n",
    "        # Set to -infinity or +infinity if out of bounds.\n",
    "        L1 = float('-inf') if L1_index < 0 else nums1[L1_index]\n",
    "        R1 = float('inf') if L1_index >= m - 1 else nums1[L1_index + 1]\n",
    "        L2 = float('-inf') if L2_index < 0 else nums2[L2_index]\n",
    "        R2 = float('inf') if L2_index >= n - 1 else nums2[L2_index + 1]\n",
    "        # If 'L1 > R2', then 'L1' is too far to the right. Narrow the search space toward the left.\n",
    "        if L1 > R2:\n",
    "            right = L1_index - 1\n",
    "        # If 'L2 > R1', then 'L1' is too far to the left. Narrow the search space toward the right.\n",
    "        elif L2 > R1:\n",
    "            left = L1_index + 1\n",
    "        # If both 'L1' and 'L2' are less than or equal to both 'R1' and 'R2', we found the correct slice.\n",
    "        else:\n",
    "            if (m + n) % 2 == 0:\n",
    "                return (max(L1, L2) + min(R1, R2)) / 2.0\n",
    "            else:\n",
    "                return min(R1, R2)\n",
    "        \n",
    "\n",
    "\n",
    "print(find_the_median_from_two_sorted_arrays([0, 2, 5, 6, 8], [1, 3, 7])) # 4.0\n",
    "print(find_the_median_from_two_sorted_arrays([0, 2, 5, 6, 8], [1, 3, 7, 9])) # 5"
   ]
  }
 ],
 "metadata": {
  "kernelspec": {
   "display_name": "jedha",
   "language": "python",
   "name": "python3"
  },
  "language_info": {
   "codemirror_mode": {
    "name": "ipython",
    "version": 3
   },
   "file_extension": ".py",
   "mimetype": "text/x-python",
   "name": "python",
   "nbconvert_exporter": "python",
   "pygments_lexer": "ipython3",
   "version": "3.12.3"
  }
 },
 "nbformat": 4,
 "nbformat_minor": 2
}
