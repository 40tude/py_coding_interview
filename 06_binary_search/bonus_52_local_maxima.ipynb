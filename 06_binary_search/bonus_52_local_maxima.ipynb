{
 "cells": [
  {
   "cell_type": "markdown",
   "metadata": {},
   "source": [
    "Keep on the side : \n",
    "* **1 - Search space**\n",
    "* **2 - Narrow search space**\n",
    "* **3 - Choose an exit condition for the while loop**\n",
    "* **4 - Return the correct value**\n"
   ]
  },
  {
   "cell_type": "markdown",
   "metadata": {},
   "source": [
    "* A local maxima is a value greater than both its immediate neighbors. \n",
    "* Return any local maxima in an array. \n",
    "* You may assume that an element is always considered to be strictly greater than a neighbor that is outside the array.\n",
    "\n",
    "<span style=\"color:orange\"><b>The point:</b></span>\n",
    "\n",
    "* if the number (at index i + 1) is greater than the current, there’s definitely a local maxima somewhere to the right of i.\n",
    "* if the number (at index i + 1) is lower   than the current, i can be a local maxima or the local maxime is on the left of i\n",
    "* we can then narrow the search toward the direction of the maxima\n",
    "\n",
    "Brute force linearly search for a local maxima by iteratively comparing each value to its neighbors and returning the first local maxima we find. \n",
    "Since we can return any maxima, there’s likely a more efficient approach.\n",
    "There is no adjacent duplicate => always contains at least one local max\n",
    "\n",
    "* **1 - Search space**\n",
    "    * [0, n-1]\n",
    "* **2 - Narrow search space**\n",
    "    * p 54\n",
    "    * evaluate val @ mid compare with val @ mid+1\n",
    "    * update right (or left)\n",
    "* **3 - Choose an exit condition for the while loop**\n",
    "    * left < right\n",
    "* **4 - Return the correct value** \n",
    "    * return left (or right)\n",
    "\n",
    "\n",
    "**Complexity :**\n",
    "\n",
    "| Time | Space |\n",
    "|------|-------|\n",
    "| O(log(n)) | O(1)  |\n",
    "\n",
    "* O(log(n)) because the search space is of size n\n",
    "* O(1) because in place "
   ]
  },
  {
   "cell_type": "code",
   "execution_count": null,
   "metadata": {},
   "outputs": [
    {
     "name": "stdout",
     "output_type": "stream",
     "text": [
      "1\n"
     ]
    }
   ],
   "source": [
    "def local_maxima_in_array(nums: list[int]) -> int:\n",
    "    left, right = 0, len(nums) - 1\n",
    "    while left < right:\n",
    "        mid = (left + right) // 2\n",
    "        if nums[mid] > nums[mid + 1]:\n",
    "            right = mid\n",
    "        else:\n",
    "            left = mid + 1\n",
    "    return left\n",
    "\n",
    "print(local_maxima_in_array([1, 4, 3, 2, 3])) # 1, 4 is acceptable"
   ]
  }
 ],
 "metadata": {
  "kernelspec": {
   "display_name": "jedha",
   "language": "python",
   "name": "python3"
  },
  "language_info": {
   "codemirror_mode": {
    "name": "ipython",
    "version": 3
   },
   "file_extension": ".py",
   "mimetype": "text/x-python",
   "name": "python",
   "nbconvert_exporter": "python",
   "pygments_lexer": "ipython3",
   "version": "3.12.3"
  }
 },
 "nbformat": 4,
 "nbformat_minor": 2
}
