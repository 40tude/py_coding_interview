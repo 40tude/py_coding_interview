{
 "cells": [
  {
   "cell_type": "markdown",
   "metadata": {},
   "source": [
    "## Chapter notes\n",
    "If sorted data set => binary tree\n",
    "1. Define search space\n",
    "    * ordered\n",
    "    * left and right ptr\n",
    "1. Narrowing the search space\n",
    "    * move ptr inward until only one element remains\n",
    "    * moves are based on the **value @ mid point** (1/2 of search space)\n",
    "    * if the searched value is on the right of mid, move left ptr to the right (resp right ptr to the left)\n",
    "        1. left = mid+1 if value @ mid **cannot** be the searched value (resp. right = mid-1)\n",
    "        1. left = mid   if value @ mid **could** be the searched value (resp. right = mid)\n",
    "    * mid = left + (right-left)//2 (avoid overflow)\n",
    "1. Choose an exit condition for the while loop\n",
    "    * to exit the while loop when left = right the condition is ``left < right`` (right=left=searched value)\n",
    "    * to exit the while loop when left > right the condition is ``left <= right``\n",
    "1. Return the correct value\n",
    "    * return either value @ left or right\n",
    "\n",
    "Keep on the side : \n",
    "* **1 - Search space**\n",
    "* **2 - Narrow search space**\n",
    "* **3 - Choose an exit condition for the while loop**\n",
    "* **4 - Return the correct value**\n"
   ]
  },
  {
   "cell_type": "markdown",
   "metadata": {},
   "source": [
    "\n",
    "\n",
    "\n",
    "Given a sorted array with unique values.\n",
    "* If the array contains the target retrun its index\n",
    "* otherwise return the insrtion index(index where the target would be if it were inserted)\n",
    "\n",
    "<span style=\"color:orange\"><b>The point:</b></span>\n",
    "\n",
    "* Combine both cases finding the first value >= the target\n",
    "* Search the first value that match a condition. The condition is  ``the number is >= the target`` (see top p 106)\n",
    "\n",
    "* **1 - Search space**\n",
    "    * Z! [0, n] and NOT [0, n-1] because if search value is NOT in the array its insertion index is n\n",
    "\n",
    "* **2 - Narrow search space**\n",
    "    * p 108 \n",
    "    * ``if num[mid] <  target => left = mid+1``\n",
    "    * ``if num[mid] >= target => right = mid``\n",
    "\n",
    "* **3 - Choose an exit condition for the while loop**\n",
    "    * we exit when left = right => the condition is ``while left < right``\n",
    "\n",
    "* **4 - Return the correct value**\n",
    "    * left\n",
    "\n",
    "**Complexity :**\n",
    "\n",
    "| Time | Space |\n",
    "|------|-------|\n",
    "| O(log(n)) | O(1)  |\n",
    "\n",
    "* O(log(n)) because the search space is of size n+1\n",
    "* O(1) because in place "
   ]
  },
  {
   "cell_type": "code",
   "execution_count": 7,
   "metadata": {},
   "outputs": [
    {
     "name": "stdout",
     "output_type": "stream",
     "text": [
      "2\n",
      "4\n"
     ]
    }
   ],
   "source": [
    "def find_insertion_index(nums:list[int], target:int) ->int:\n",
    "    left, right = 0, len(nums)\n",
    "    while left < right:\n",
    "        mid = left + (right - left) // 2\n",
    "        if nums[mid] >= target:\n",
    "            right = mid\n",
    "        else:\n",
    "            left = mid + 1\n",
    "    return left\n",
    "\n",
    "print(find_insertion_index([1,2, 4, 5,7, 8, 9], 4)) #2\n",
    "print(find_insertion_index([1,2, 4, 5,7, 8, 9], 6)) #4"
   ]
  }
 ],
 "metadata": {
  "kernelspec": {
   "display_name": "jedha",
   "language": "python",
   "name": "python3"
  },
  "language_info": {
   "codemirror_mode": {
    "name": "ipython",
    "version": 3
   },
   "file_extension": ".py",
   "mimetype": "text/x-python",
   "name": "python",
   "nbconvert_exporter": "python",
   "pygments_lexer": "ipython3",
   "version": "3.12.3"
  }
 },
 "nbformat": 4,
 "nbformat_minor": 2
}
