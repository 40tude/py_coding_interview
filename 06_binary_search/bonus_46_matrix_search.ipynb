{
 "cells": [
  {
   "cell_type": "markdown",
   "metadata": {},
   "source": [
    "Keep on the side : \n",
    "* **1 - Search space**\n",
    "* **2 - Narrow search space**\n",
    "* **3 - Choose an exit condition for the while loop**\n",
    "* **4 - Return the correct value**\n"
   ]
  },
  {
   "cell_type": "markdown",
   "metadata": {},
   "source": [
    "* Determine if a target value exists in a matrix. \n",
    "* Each row of the matrix is sorted in non-decreasing order\n",
    "* The first value of each row is greater than or equal to the last value of the previous row\n",
    "\n",
    "\n",
    "<span style=\"color:orange\"><b>The point:</b></span>\n",
    "* all values in a given row are greater than or equal to all values in the previous row. \n",
    "* think about flatten C array in memory where cell(r, c) map to r*n + c\n",
    "* i in flatten array => r = i//n c = I%n\n",
    "\n",
    "\n",
    "\n",
    "Brute force does not take advantage of the sorted rows\n",
    "Building a flatten ordered array take O(m*n) in time and O(m*n) in space \n",
    "\n",
    "\n",
    "* **1 - Search space**\n",
    "    * [0, m*n-1]\n",
    "* **2 - Narrow search space**\n",
    "    * p 48\n",
    "    * mid = (left + right) // 2\n",
    "    * r = mid//n c = mid%n\n",
    "    * matrxi[r][c] < target => left  = mid + 1\n",
    "    * matrxi[r][c] > target => right = mid - 1\n",
    "* **3 - Choose an exit condition for the while loop**\n",
    "    * while left <= right\n",
    "* **4 - Return the correct value** \n",
    "    * True or False\n",
    "\n",
    "\n",
    "**Complexity :**\n",
    "\n",
    "| Time | Space |\n",
    "|------|-------|\n",
    "| O(log(m*n)) | O(1)  |\n",
    "\n",
    "* O(log(m*n)) because the binary search space is of size m*n\n",
    "* O(1) because in place "
   ]
  },
  {
   "cell_type": "code",
   "execution_count": 2,
   "metadata": {},
   "outputs": [
    {
     "name": "stdout",
     "output_type": "stream",
     "text": [
      "True\n",
      "False\n"
     ]
    }
   ],
   "source": [
    "def matrix_search(matrix: list[list[int]], target: int) -> bool:\n",
    "    m, n = len(matrix), len(matrix[0])\n",
    "    left, right = 0, m * n - 1\n",
    "    # Binary search \n",
    "    while left <= right:\n",
    "        mid = (left + right) // 2\n",
    "        r, c = mid // n, mid % n\n",
    "        if matrix[r][c] == target:\n",
    "            return True\n",
    "        elif matrix[r][c] > target:\n",
    "            right = mid - 1\n",
    "        else:\n",
    "            left = mid + 1\n",
    "    return False\n",
    "\n",
    "print(matrix_search([[2, 3, 4, 6], [7, 10, 11, 17], [20, 21, 24, 33]], 21)) # True\n",
    "print(matrix_search([[2, 3, 4, 6], [7, 10, 11, 17], [20, 21, 24, 33]], 22)) # False"
   ]
  }
 ],
 "metadata": {
  "kernelspec": {
   "display_name": "jedha",
   "language": "python",
   "name": "python3"
  },
  "language_info": {
   "codemirror_mode": {
    "name": "ipython",
    "version": 3
   },
   "file_extension": ".py",
   "mimetype": "text/x-python",
   "name": "python",
   "nbconvert_exporter": "python",
   "pygments_lexer": "ipython3",
   "version": "3.12.3"
  }
 },
 "nbformat": 4,
 "nbformat_minor": 2
}
