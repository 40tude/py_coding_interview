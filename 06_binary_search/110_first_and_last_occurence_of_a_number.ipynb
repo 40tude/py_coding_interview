{
 "cells": [
  {
   "cell_type": "markdown",
   "metadata": {},
   "source": [
    "Keep on the side : \n",
    "* **1 - Search space**\n",
    "* **2 - Narrow search space**\n",
    "* **3 - Choose an exit condition for the while loop**\n",
    "* **4 - Return the correct value**\n"
   ]
  },
  {
   "cell_type": "markdown",
   "metadata": {},
   "source": [
    "Given an array sorted in non-decreasing order return the first and last indexes of a target number, `[-1, -1]` otherwise\n",
    "\n",
    "\n",
    "* Sorted array => think about binary search\n",
    "\n",
    "<span style=\"color:orange\"><b>The point:</b></span>\n",
    "* We must find 2 occurrences\n",
    "    * find lower bound\n",
    "    * find upper bound\n",
    "* In upper-bound binary search => bias the midpoint to the right. `mid = 1 + (left+right)//2`\n",
    "\n",
    "### find lower bound\n",
    "* **1 - Search space**\n",
    "    * [0, n-1]\n",
    "* **2 - Narrow search space**\n",
    "    * we are seeking for the leftmost occurrence\n",
    "    * if value @ mid > target => target is on the left of mid => move right ptr inward => right = mid - 1\n",
    "    * if value @ mid < target => target in on the right of mid => move left ptr inward => left = mid + 1\n",
    "    * if value @ mid == target => 2 options : mid = lowerbound or mid is not yet the lowerbound (lowerbound is still on the left)\n",
    "        * right = mid\n",
    "* **3 - Choose an exit condition for the while loop**\n",
    "    * exit when left==right\n",
    "* **4 - Return the correct value**\n",
    "    * return left (or right)\n",
    "\n",
    "### find upper bound\n",
    "* **1 - Search space**\n",
    "    * [0, n-1]\n",
    "* **2 - Narrow search space**\n",
    "    * we are seeking for the rightmost occurrence\n",
    "    * if value @ mid > target => target is on the left of mid => move right ptr inward => right = mid - 1\n",
    "    * if value @ mid < target => target in on the right of mid => move left ptr inward => left = mid + 1\n",
    "    * if value @ mid == target => 2 options : mid = upperbound or mid is not yet the upperbound (upperbound is still on the right)\n",
    "        * left = mid\n",
    "        * Infinite llop see p 113\n",
    "        * bias the midpoint to the right. `mid = 1 + (left+right)//2`\n",
    "\n",
    "* **3 - Choose an exit condition for the while loop**\n",
    "    * exit when left==right\n",
    "* **4 - Return the correct value**\n",
    "    * return right (or left)\n",
    "\n",
    "\n",
    "\n",
    "**Complexity :**\n",
    "\n",
    "| Time | Space |\n",
    "|------|-------|\n",
    "| O(log(n)) | O(1)  |\n",
    "\n",
    "* O(log(n)) because the search space is of size n\n",
    "* O(1) because in place "
   ]
  },
  {
   "cell_type": "code",
   "execution_count": null,
   "metadata": {},
   "outputs": [
    {
     "name": "stdout",
     "output_type": "stream",
     "text": [
      "[3, 5]\n",
      "[-1, -1]\n"
     ]
    }
   ],
   "source": [
    "def lower_bound_binary_search(nums:list[int], target:int) ->int:\n",
    "    left, right = 0, len(nums) -1\n",
    "    while left < right:\n",
    "        mid = left + (right - left) // 2\n",
    "        if nums[mid] > target:\n",
    "            right = mid - 1\n",
    "        elif nums[mid] < target:\n",
    "            left = mid + 1\n",
    "        else:\n",
    "            right = mid\n",
    "    return left if nums and nums[left] == target else -1\n",
    "\n",
    "def upper_bound_binary_search(nums:list[int], target:int) ->int:\n",
    "    left, right = 0, len(nums)\n",
    "    while left < right:\n",
    "        mid = 1 + left + (right - left) // 2\n",
    "        if nums[mid] > target:\n",
    "            right = mid - 1\n",
    "        elif nums[mid] < target:\n",
    "            left = mid + 1\n",
    "        else:\n",
    "            left = mid + 1\n",
    "    return right if nums and nums[right] == target else -1\n",
    "\n",
    "def first_last_occurrences(nums:list[int], target:int) -> list[int]:\n",
    "    lower_bound = lower_bound_binary_search(nums, target)\n",
    "    upper_bound = upper_bound_binary_search(nums, target)\n",
    "    return [lower_bound, upper_bound]\n",
    "\n",
    "\n",
    "\n",
    "\n",
    "\n",
    "\n",
    "print(first_last_occurrences([1, 2, 3, 4, 4, 4, 5, 6, 7, 8, 9, 10, 11], 4)) # [ 3, 5]\n",
    "print(first_last_occurrences([1, 2, 3, 4, 4, 4, 5, 6, 6, 8, 9, 10, 11], 7)) # [-1,-1]"
   ]
  }
 ],
 "metadata": {
  "kernelspec": {
   "display_name": "jedha",
   "language": "python",
   "name": "python3"
  },
  "language_info": {
   "codemirror_mode": {
    "name": "ipython",
    "version": 3
   },
   "file_extension": ".py",
   "mimetype": "text/x-python",
   "name": "python",
   "nbconvert_exporter": "python",
   "pygments_lexer": "ipython3",
   "version": "3.12.3"
  }
 },
 "nbformat": 4,
 "nbformat_minor": 2
}
