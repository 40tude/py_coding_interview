{
 "cells": [
  {
   "cell_type": "markdown",
   "metadata": {},
   "source": [
    "Design and implement a data structure for Least Recently Used (LRU) cache.\n",
    "\n",
    "It should support the following operations:\n",
    "* LRUCache(capacity:int)\n",
    "* get (key:int)-> int\n",
    "* put (key:int, value:int) -> None\n",
    "\n",
    "See p 63 for more details\n",
    "\n",
    "**Complexity :**\n",
    "| Time | Space |\n",
    "|------|-------|\n",
    "| O(n) | O(1)  | \n",
    "\n",
    "* n is the capacity of the cache\n",
    "* O(n) in space complexity because we store n nodes in the cache and doubly linked list\n",
    "* O(1) because put() and get() use remove_node() and add_tail() which are O(1)\n",
    "\n",
    "**The point :** \n",
    "* it use doubly linked list to keep track of the most recent used nodes AND hash map of size capacity to access the cache in O(1)\n",
    "\n"
   ]
  },
  {
   "cell_type": "code",
   "execution_count": null,
   "metadata": {},
   "outputs": [
    {
     "name": "stdout",
     "output_type": "stream",
     "text": [
      "250\n",
      "300\n",
      "-1\n",
      "LRUCache : 250 -> 300 -> 200\n"
     ]
    }
   ],
   "source": [
    "class DoublyLinkedListNode:\n",
    "    def __init__(self, key, val):\n",
    "        self.key = key\n",
    "        self.val = val\n",
    "        self.prev = None\n",
    "        self.next = None\n",
    "\n",
    "class LRUCache:\n",
    "    def __init__(self, capacity: int):\n",
    "        self.capacity = capacity\n",
    "        self.hashmap = {}  # Hash map that maps keys to nodes\n",
    "        self.head = DoublyLinkedListNode(-1, -1) # Initialize the head and tail dummy nodes and connect them to each other in a basic two-node doubly linked list\n",
    "        self.tail = DoublyLinkedListNode(-1, -1)\n",
    "        self.head.next = self.tail\n",
    "        self.tail.prev = self.head\n",
    "\n",
    "    def get(self, key):\n",
    "        if key not in self.hashmap:\n",
    "            return -1\n",
    "        # Make this node the most recent used\n",
    "        # Remove it from its current position and add it to the tail\n",
    "        self._remove_node(self.hashmap[key])\n",
    "        self._add_to_tail(self.hashmap[key])\n",
    "        return self.hashmap[key].val\n",
    "\n",
    "    def put(self, key, value) -> None:\n",
    "        # If a node with this key exists, remove it form linked list (before to add it to tail)\n",
    "        if key in self.hashmap:\n",
    "            self._remove_node(self.hashmap[key])\n",
    "        node = DoublyLinkedListNode(key, value)\n",
    "        self.hashmap[key] = node\n",
    "\n",
    "        # Remove the least recently used node if we exceed the capacity\n",
    "        if len(self.hashmap) > self.capacity:\n",
    "            del self.hashmap[self.head.next.key]  \n",
    "            self._remove_node(self.head.next)\n",
    "        self._add_to_tail(node)\n",
    "\n",
    "    def _add_to_tail(self, node) :\n",
    "        prev_node = self.tail.prev\n",
    "        node.prev = prev_node\n",
    "        node.next = self.tail\n",
    "        prev_node.next = node  \n",
    "        self.tail.prev = node\n",
    "\n",
    "    def _remove_node(self, node):\n",
    "        node.prev.next = node.next \n",
    "        node.next.prev = node.prev \n",
    "\n",
    "    def __str__(self):\n",
    "        values = [] # Read the values from the cache and print them all\n",
    "        for key, value in self.hashmap.items():\n",
    "            values.append(str(value.val))\n",
    "        return f\"LRUCache : {' -> '.join(values)}\"\n",
    "\n",
    "cache = LRUCache(3)\n",
    "cache.put(1, 100)\n",
    "cache.put(2, 250)\n",
    "print(cache.get(2))\n",
    "cache.put(4, 300)\n",
    "cache.put(3, 200)\n",
    "print(cache.get(4))\n",
    "print(cache.get(1))\n",
    "print(cache)\n"
   ]
  }
 ],
 "metadata": {
  "kernelspec": {
   "display_name": "jedha",
   "language": "python",
   "name": "python3"
  },
  "language_info": {
   "codemirror_mode": {
    "name": "ipython",
    "version": 3
   },
   "file_extension": ".py",
   "mimetype": "text/x-python",
   "name": "python",
   "nbconvert_exporter": "python",
   "pygments_lexer": "ipython3",
   "version": "3.12.3"
  }
 },
 "nbformat": 4,
 "nbformat_minor": 2
}
