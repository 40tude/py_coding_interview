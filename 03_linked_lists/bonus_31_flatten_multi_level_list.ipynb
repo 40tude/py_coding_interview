{
 "cells": [
  {
   "cell_type": "markdown",
   "metadata": {},
   "source": [
    "<div align=\"center\">\n",
    "<img src=\"./assets/img_01.png\" alt=\"\" width=\"900\" loading=\"lazy\"/>\n",
    "</div>\n"
   ]
  },
  {
   "cell_type": "code",
   "execution_count": null,
   "metadata": {},
   "outputs": [],
   "source": [
    "# Flatten the multi-level linked list into a single-level linked list by linking the end of each level to the start of the next one.\n",
    "\n",
    "# See p 31\n",
    "# Each node has a next pointer and child pointer.\n",
    "# The order of the nodes on each level needs to be preserved.\n",
    "# All the nodes in one level must connect before appending nodes from the next level.\n",
    "\n",
    "# BFS => Queue => Linear space complexity\n",
    "# Can we flatten in place ?\n",
    "\n",
    "# we can append each child linked list to the end of the current level, which effectively merges these two levels into one.\n",
    "# with all the nodes on level ‘L + 1’ appended to level ‘L’, we can continue this process by appending nodes from level ‘L + 2’ to level ‘L + 1’, and so on.\n",
    "\n",
    "# ! The point is to use 2 pointers \n",
    "# !     tail points to the end of the level 0 list\n",
    "# !     current traverse the list. Each time a child is found, the child list is appended to the end of the level 0 (including the child's children)\n",
    "\n",
    "# tail pointer : we would need a reference to level 1’s tail node so we can easily add nodes to the end of the linked list. \n",
    "# curr pointer : traverse the linked list. Whenever it encounters a node with a child node that isn’t null, the child linked list is added to the end of the linked list. \n",
    "# tail pointer must be updated\n",
    "\n",
    "\n",
    "# O(n) time complexity, O(1) space complexity\n"
   ]
  },
  {
   "cell_type": "code",
   "execution_count": 7,
   "metadata": {},
   "outputs": [],
   "source": [
    "class MultiLevelListNode:\n",
    "    def __init__(self, val, next, child):\n",
    "        self.val = val\n",
    "        self.next = next\n",
    "        self.child = child"
   ]
  },
  {
   "cell_type": "code",
   "execution_count": 8,
   "metadata": {},
   "outputs": [],
   "source": [
    "# Setup and utilities\n",
    "\n",
    "def print_linked_list(head):\n",
    "    values = []\n",
    "    node= head\n",
    "    while node is not None:\n",
    "        values.append(str(node.val))\n",
    "        node = node.next\n",
    "    print(f\"{' -> '.join(values)} -> None\")\n",
    "\n",
    "def build_the_list(values):\n",
    "    previous_node = None\n",
    "    for v in reversed(values):\n",
    "        node = MultiLevelListNode(v, previous_node, None)\n",
    "        previous_node = node\n",
    "    return node\n",
    "\n",
    "def attach_list(ll_child, val, ll_parent):\n",
    "    curr = ll_parent\n",
    "    while curr.val != val:\n",
    "        curr = curr.next\n",
    "    curr.child = ll_child\n",
    "\n",
    "multi_level_linked_list_descriptor=[\n",
    "    (None, [1, 2, 3, 4, 5]),\n",
    "    (2, [6, 7]),\n",
    "    (7, [10]),\n",
    "    (4, [8, 9]),\n",
    "    (8, [11])\n",
    "]\n",
    "\n",
    "linked_lists=[]\n",
    "for attach_node, lst_vals in multi_level_linked_list_descriptor: \n",
    "    linked_lists.append(build_the_list(lst_vals))\n",
    "\n",
    "\n",
    "attach_list(linked_lists[1], 2, linked_lists[0]) # attach linked_list 1 to node of val 2 in linked_list 0\n",
    "attach_list(linked_lists[2], 7, linked_lists[1])\n",
    "attach_list(linked_lists[3], 4, linked_lists[0])\n",
    "attach_list(linked_lists[4], 8, linked_lists[3])\n"
   ]
  },
  {
   "cell_type": "code",
   "execution_count": 9,
   "metadata": {},
   "outputs": [],
   "source": [
    "def flatten_multi_level_list(head: MultiLevelListNode) -> MultiLevelListNode:\n",
    "    if not head:\n",
    "        return None\n",
    "    \n",
    "    tail = head\n",
    "    \n",
    "    # Find the tail of the linked list at the first level.\n",
    "    while tail.next:\n",
    "        tail = tail.next\n",
    "    \n",
    "    # Process each node at the current level. If a node has a child linked list,\n",
    "    # append it to the tail and then update the tail to the end of the extended\n",
    "    # linked list. Continue until all nodes at the current level are processed.\n",
    "    curr = head\n",
    "    while curr:\n",
    "        if curr.child:\n",
    "            tail.next = curr.child\n",
    "            # Disconnect the child linked list from the current node.\n",
    "            curr.child = None\n",
    "            while tail.next:\n",
    "                tail = tail.next\n",
    "        curr = curr.next\n",
    "    return head\n"
   ]
  },
  {
   "cell_type": "code",
   "execution_count": 10,
   "metadata": {},
   "outputs": [
    {
     "name": "stdout",
     "output_type": "stream",
     "text": [
      "1 -> 2 -> 3 -> 4 -> 5 -> 6 -> 7 -> 8 -> 9 -> 10 -> 11 -> None\n"
     ]
    }
   ],
   "source": [
    "flatten_multi_level_list(linked_lists[0])\n",
    "print_linked_list(linked_lists[0])\n"
   ]
  }
 ],
 "metadata": {
  "kernelspec": {
   "display_name": "jedha",
   "language": "python",
   "name": "python3"
  },
  "language_info": {
   "codemirror_mode": {
    "name": "ipython",
    "version": 3
   },
   "file_extension": ".py",
   "mimetype": "text/x-python",
   "name": "python",
   "nbconvert_exporter": "python",
   "pygments_lexer": "ipython3",
   "version": "3.12.3"
  }
 },
 "nbformat": 4,
 "nbformat_minor": 2
}
