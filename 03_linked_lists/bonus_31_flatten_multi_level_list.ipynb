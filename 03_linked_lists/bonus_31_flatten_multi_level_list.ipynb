{
 "cells": [
  {
   "cell_type": "markdown",
   "metadata": {},
   "source": [
    "<div align=\"center\">\n",
    "<img src=\"./assets/img_01.png\" alt=\"\" width=\"900\" loading=\"lazy\"/>\n",
    "</div>\n"
   ]
  },
  {
   "cell_type": "code",
   "execution_count": null,
   "metadata": {},
   "outputs": [],
   "source": [
    "# Flatten the multi-level linked list into a single-level linked list by linking the end of each level to the start of the next one.\n",
    "# Each node has a next pointer and child pointer.\n",
    "# See p 31\n",
    "\n",
    "# The order of the nodes on each level needs to be preserved.\n",
    "# All the nodes in one level must connect before appending nodes from the next level.\n",
    "\n",
    "# BFS => Queue => Linear space complexity\n",
    "# Flatten in place ?\n",
    "\n",
    "\n",
    "from __future__ import annotations\n"
   ]
  }
 ],
 "metadata": {
  "language_info": {
   "name": "python"
  }
 },
 "nbformat": 4,
 "nbformat_minor": 2
}
