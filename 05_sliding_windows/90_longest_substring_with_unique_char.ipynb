{
 "cells": [
  {
   "cell_type": "markdown",
   "metadata": {},
   "source": [
    "Given a string determine the lenght of its longest substring of unique char\n",
    "\n",
    "* Brute force in O(n^3)\n",
    "* => dynamic sliding window\n",
    "\n",
    "<span style=\"color:orange\"><b>The point:</b></span>\n",
    "\n",
    "* Expand (right) the window until is has duplicates\n",
    "* Shrink (left) it until the duplicate is removed\n",
    "* Use a hash set to keep track of chars in the window\n",
    "\n",
    "**Complexity :**\n",
    "\n",
    "| Time | Space |\n",
    "|------|-------|\n",
    "| O(n) | O(m)  |\n",
    "\n",
    "* O(n) because we traverse the string (len=n)\n",
    "* O(m) because of the hash set with m unique chars"
   ]
  },
  {
   "cell_type": "code",
   "execution_count": null,
   "metadata": {},
   "outputs": [
    {
     "name": "stdout",
     "output_type": "stream",
     "text": [
      "3\n"
     ]
    }
   ],
   "source": [
    "def longest_substring_with_unique_chars (s : str) -> int:\n",
    "    max_len = 0\n",
    "    hash_set = set()\n",
    "    left = right = 0\n",
    "    while right < len(s):\n",
    "        # if duplicate in the window, shrink it until the duplicate is removed\n",
    "        while s[right] in hash_set:\n",
    "            hash_set.remove(s[left])\n",
    "            left +=1\n",
    "        # update the max length when no duplicate in the window\n",
    "        max_len = max(max_len, right - left + 1)\n",
    "        hash_set.add(s[right])\n",
    "        right += 1\n",
    "    return max_len\n",
    "\n",
    "print(f\"{longest_substring_with_unique_chars('abcba')}\")\n",
    "\n"
   ]
  },
  {
   "cell_type": "markdown",
   "metadata": {},
   "source": [
    "## Optimisation\n",
    "* p 93\n",
    "* Move the left pointer **right after the previous occurence** of the char at the right pointer\n",
    "* Need to keep track of previous indexes\n",
    "\n",
    "**Complexity :**\n",
    "\n",
    "| Time | Space |\n",
    "|------|-------|\n",
    "| O(n) | O(m)  |"
   ]
  },
  {
   "cell_type": "code",
   "execution_count": null,
   "metadata": {},
   "outputs": [
    {
     "name": "stdout",
     "output_type": "stream",
     "text": [
      "3\n"
     ]
    }
   ],
   "source": [
    "def longest_substring_with_unique_chars_optimized (s : str) -> int:\n",
    "    max_len = 0\n",
    "    prev_indexes = {}\n",
    "    left = right = 0\n",
    "    while right < len(s):\n",
    "        # if a previous index of the char at the right pointer => it's a duplicate\n",
    "        if s[right] in prev_indexes and prev_indexes[s[right]] >= left:\n",
    "            # move the left pointer to the right of the previous index of the char which is at the right pointer\n",
    "            left = prev_indexes[s[right]] + 1\n",
    "        # update the max length when no duplicate in the window\n",
    "        max_len = max(max_len, right - left + 1)\n",
    "        prev_indexes[s[right]] = right\n",
    "        right += 1\n",
    "    return max_len\n",
    "\n",
    "print(f\"{longest_substring_with_unique_chars_optimized('abcba')}\")\n"
   ]
  }
 ],
 "metadata": {
  "kernelspec": {
   "display_name": "jedha",
   "language": "python",
   "name": "python3"
  },
  "language_info": {
   "codemirror_mode": {
    "name": "ipython",
    "version": 3
   },
   "file_extension": ".py",
   "mimetype": "text/x-python",
   "name": "python",
   "nbconvert_exporter": "python",
   "pygments_lexer": "ipython3",
   "version": "3.12.3"
  }
 },
 "nbformat": 4,
 "nbformat_minor": 2
}
