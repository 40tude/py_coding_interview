{
 "cells": [
  {
   "cell_type": "markdown",
   "metadata": {},
   "source": [
    "Given a string determine the length of its longest substring of similar char replacing up to k chars\n",
    "\n",
    "<span style=\"color:orange\"><b>The point:</b></span>\n",
    "\n",
    "* when we find a valid window with a certain length, no shorter windows can provide a longer uniform substring\n",
    "\n",
    "* **Step 1**\n",
    "    * Uniform string => replace all char except the most frequent one\n",
    "    * num_char_to_replace = len(str) - highest_freq\n",
    "    * A string can be made uniform if num_char_to_replace <= k\n",
    "    * Use a hash map to keep track of freq of each char\n",
    "* **Step 2**\n",
    "    * use dynamic sliding window\n",
    "    * to find the longest substring where num_char_to_replace <= k\n",
    "        * if condition met => expand to the right\n",
    "        * if condition not met shrink by the left until it meet the condition again\n",
    "    * see p 97 the way to update highest_freq when we would like to shrink by the left but where we slide the window of the current size \n",
    "\n",
    "**Complexity :**\n",
    "\n",
    "| Time | Space |\n",
    "|------|-------|\n",
    "| O(n) | O(m)  |\n",
    "\n",
    "* O(n) because we traverse the string (len=n)\n",
    "* O(m) because there are m unique chars in the hash map freqs "
   ]
  },
  {
   "cell_type": "code",
   "execution_count": 2,
   "metadata": {},
   "outputs": [
    {
     "name": "stdout",
     "output_type": "stream",
     "text": [
      "5\n"
     ]
    }
   ],
   "source": [
    "def longest_uniform_substring_after_replacement (s : str, k: int) -> int:\n",
    "    freqs={}\n",
    "    highest_freq = max_len = 0\n",
    "    left = right = 0\n",
    "    while right < len(s) :\n",
    "        freqs[s[right]] = freqs.get(s[right], 0) + 1\n",
    "        highest_freq = max(highest_freq, freqs[s[right]])\n",
    "        num_chars_to_replace = right - left + 1 - highest_freq\n",
    "        if num_chars_to_replace > k :\n",
    "            freqs[s[left]] -= 1\n",
    "            left += 1\n",
    "        max_len = right - left + 1\n",
    "        right += 1\n",
    "\n",
    "    return max_len\n",
    "\n",
    "print(f\"{longest_uniform_substring_after_replacement('aabcdcca', 2)}\") # 5\n",
    "\n"
   ]
  }
 ],
 "metadata": {
  "kernelspec": {
   "display_name": "jedha",
   "language": "python",
   "name": "python3"
  },
  "language_info": {
   "codemirror_mode": {
    "name": "ipython",
    "version": 3
   },
   "file_extension": ".py",
   "mimetype": "text/x-python",
   "name": "python",
   "nbconvert_exporter": "python",
   "pygments_lexer": "ipython3",
   "version": "3.12.3"
  }
 },
 "nbformat": 4,
 "nbformat_minor": 2
}
