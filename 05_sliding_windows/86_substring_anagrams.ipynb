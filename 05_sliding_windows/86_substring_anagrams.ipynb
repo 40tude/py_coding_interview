{
 "cells": [
  {
   "cell_type": "markdown",
   "metadata": {},
   "source": [
    "\n",
    "Given 2 strings s and t, return the number of substrings in s that are anagrams of t\n",
    "\n",
    "<span style=\"color:orange\"><b>The point:</b></span>\n",
    "\n",
    "* In anagrams order of char does'nt matter\n",
    "* Only the freq of each letter does\n",
    "\n",
    "**Complexity :**\n",
    "\n",
    "| Time | Space |\n",
    "|------|-------|\n",
    "| O(n) | O(1)  |\n",
    "\n",
    "The comparaison between the 2 freq arrays takes O(1) because they contain 26 elements (?????)"
   ]
  },
  {
   "cell_type": "code",
   "execution_count": null,
   "metadata": {},
   "outputs": [
    {
     "name": "stdout",
     "output_type": "stream",
     "text": [
      "2\n"
     ]
    }
   ],
   "source": [
    "def substring_anagrams (s : str, t:str) -> int:\n",
    "    count = 0\n",
    "\n",
    "    len_s, len_t = len(s), len(t)\n",
    "    if len_t > len_s:\n",
    "        return count\n",
    "    \n",
    "    expected_freqs, window_freqs = [0]*26, [0]*26\n",
    "    \n",
    "    # populate the expected frequency array with characters from t\n",
    "    for c in t:\n",
    "        expected_freqs[ord(c)-ord('a')] +=1\n",
    "    \n",
    "    left = right = 0\n",
    "    while right < len_s:\n",
    "        # add the char at the right pointer to the window_freqs BEFORE sliding the window\n",
    "        window_freqs[ord(s[right]) - ord('a')] +=1\n",
    "        # if the window size is equal to the length of t, we can start comparing the window_freqs with expected_freqs\n",
    "        if right - left +1 ==len_t:\n",
    "            if window_freqs == expected_freqs:\n",
    "                count+=1\n",
    "            # Remove the char at the left pointer from the window_freqs BEFORE sliding the window    \n",
    "            window_freqs[ord(s[left]) - ord('a')] -=1\n",
    "            left +=1\n",
    "        right +=1\n",
    "    return count\n",
    "\n",
    "print(f\"{substring_anagrams('caabab', 'aba')}\")\n",
    "\n"
   ]
  }
 ],
 "metadata": {
  "kernelspec": {
   "display_name": "jedha",
   "language": "python",
   "name": "python3"
  },
  "language_info": {
   "codemirror_mode": {
    "name": "ipython",
    "version": 3
   },
   "file_extension": ".py",
   "mimetype": "text/x-python",
   "name": "python",
   "nbconvert_exporter": "python",
   "pygments_lexer": "ipython3",
   "version": "3.12.3"
  }
 },
 "nbformat": 4,
 "nbformat_minor": 2
}
