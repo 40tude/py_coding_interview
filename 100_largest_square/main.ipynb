{
 "cells": [
  {
   "cell_type": "markdown",
   "metadata": {},
   "source": [
    "See : https://www.youtube.com/watch?v=Ti5vfu9arXQ\n",
    "\n",
    "<div align=\"center\">\n",
    "<img src=\"./Screenshot_20250302_002852_YouTube.jpg\" alt=\"\" width=\"900\" loading=\"lazy\"/>\n",
    "</div>\n",
    "\n"
   ]
  },
  {
   "cell_type": "code",
   "execution_count": null,
   "metadata": {},
   "outputs": [
    {
     "name": "stdout",
     "output_type": "stream",
     "text": [
      "4\n"
     ]
    }
   ],
   "source": [
    "# Not a rectangle, but a square\n",
    "# Brute force in O(n**4) because for all the cells (2 loops in O(n²)), we check if we can form a square (2 loops in O(n²)) by expanding to the right and downward\n",
    "# We can consider a recursive solution with memoization (which would then be in O(n²))\n",
    "# If there is a 1:\n",
    "#       Ask the right cell what size square it can form\n",
    "#       Ask the bottom cell what size square it can form\n",
    "#       Ask the bottom-right cell what size square it can form\n",
    "#       Return the minimum of the three + 1\n",
    "# Otherwise:\n",
    "#       Return 0\n",
    "\n",
    "# BUT if we can do recursion + memoization, it means we can have a dynamic programming solution\n",
    "# The DP array is initialized to 0\n",
    "# It will store the size of the largest square that can be formed using cell (i, j) as the bottom-right corner\n",
    "# We will find the maximum value in the DP array\n",
    "\n",
    "def largest_square(board) :\n",
    "    h = len(board)\n",
    "    w = len(board[0])\n",
    "\n",
    "    dp = [[0]* w for _ in range(h)] # ! there is a typo in the code of the video\n",
    "\n",
    "    max_num = -1\n",
    "    for j in range(h):\n",
    "        for i in range (w):\n",
    "            if board[j][i] == 0:\n",
    "                # dp is already set to 0\n",
    "                continue\n",
    "            top = left = diag = 0\n",
    "            if j>0: top = dp[j-1][i]\n",
    "            if i>0: left = dp[j][i-1]\n",
    "            if j>0 and i>0: diag = dp[j-1][i-1]\n",
    "            # Understand we build dp[j][i] based on dp[j-1][i], dp[j][i-1] et dp[j-1][i-1]\n",
    "            dp[j][i] = min(top, left, diag) + 1 \n",
    "            max_num = max(max_num, dp[j][i])\n",
    "    return max_num\n",
    "\n",
    "board = [[0, 1, 1, 0, 1],   \n",
    "         [1, 1, 0, 1, 0],\n",
    "         [1, 1, 1, 1, 0],\n",
    "         [1, 1, 1, 1, 0],\n",
    "         [1, 1, 1, 1, 1],\n",
    "         [1, 1, 1, 1, 0]]\n",
    "\n",
    "print(largest_square(board)) # 4"
   ]
  }
 ],
 "metadata": {
  "kernelspec": {
   "display_name": "jedha",
   "language": "python",
   "name": "python3"
  },
  "language_info": {
   "codemirror_mode": {
    "name": "ipython",
    "version": 3
   },
   "file_extension": ".py",
   "mimetype": "text/x-python",
   "name": "python",
   "nbconvert_exporter": "python",
   "pygments_lexer": "ipython3",
   "version": "3.12.3"
  }
 },
 "nbformat": 4,
 "nbformat_minor": 2
}
