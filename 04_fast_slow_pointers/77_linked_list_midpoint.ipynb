{
 "cells": [
  {
   "cell_type": "markdown",
   "metadata": {},
   "source": [
    "Given a singly linked list, find ans return its middle node. If there are 2 middle nodes, returns the second one\n",
    "\n",
    "<span style=\"color:orange\"><b>The point:</b></span>\n",
    "* Use 2 ptrs : One fast and one slow\n",
    "* Fast move 2 steps at a time (``fast = fast.next.next``)\n",
    "* When fast ptr reaches the end of list, slow pointer is in the middle\n",
    "    * If len of list is odd => slow in the middle when fast.ext is None\n",
    "    * If len of list is evan => slow on the second middle when fast is None (p 78)\n",
    "\n",
    "\n",
    "**Complexity :**\n",
    "\n",
    "| Time | Space |\n",
    "|------|-------|\n",
    "| O(n) | O(1)  |\n",
    "\n",
    "* O(n) because we traverse the list\n",
    "* O(1) in space because no growing datastructure are created\n",
    "\n"
   ]
  },
  {
   "cell_type": "code",
   "execution_count": 1,
   "metadata": {},
   "outputs": [],
   "source": [
    "class List_Node:\n",
    "    def __init__(self, val: int, next):\n",
    "        self.val = val\n",
    "        self.next = next"
   ]
  },
  {
   "cell_type": "code",
   "execution_count": 2,
   "metadata": {},
   "outputs": [],
   "source": [
    "def linked_list_midpoint(head):\n",
    "    slow = head\n",
    "    fast = head\n",
    "    while fast and fast.next:\n",
    "        slow = slow.next\n",
    "        fast = fast.next.next\n",
    "    return slow"
   ]
  },
  {
   "cell_type": "code",
   "execution_count": 3,
   "metadata": {},
   "outputs": [
    {
     "name": "stdout",
     "output_type": "stream",
     "text": [
      "4\n"
     ]
    }
   ],
   "source": [
    "my_list = [1, 2, 4, 7, 3]\n",
    "previous_node = None\n",
    "for v in reversed(my_list):\n",
    "    node = List_Node(v, previous_node)\n",
    "    previous_node = node\n",
    "head = node\n",
    "\n",
    "print(linked_list_midpoint(head).val)\n",
    "\n"
   ]
  },
  {
   "cell_type": "markdown",
   "metadata": {},
   "source": [
    "### If asked to return the first midpoint when there are 2 middle nodes"
   ]
  },
  {
   "cell_type": "code",
   "execution_count": null,
   "metadata": {},
   "outputs": [],
   "source": [
    "\n",
    "def linked_list_first_midpoint(head):\n",
    "    slow = head\n",
    "    fast = head\n",
    "    while fast and fast.next.next:         # ! fast.next.next\n",
    "        slow = slow.next\n",
    "        fast = fast.next.next\n",
    "    return slow"
   ]
  },
  {
   "cell_type": "code",
   "execution_count": 7,
   "metadata": {},
   "outputs": [
    {
     "name": "stdout",
     "output_type": "stream",
     "text": [
      "2\n"
     ]
    }
   ],
   "source": [
    "my_list2 = [1, 2, 4, 7]\n",
    "previous_node = None\n",
    "for v in reversed(my_list2):\n",
    "    node = List_Node(v, previous_node)\n",
    "    previous_node = node\n",
    "head = node\n",
    "\n",
    "print(linked_list_first_midpoint(head).val)\n"
   ]
  }
 ],
 "metadata": {
  "kernelspec": {
   "display_name": "jedha",
   "language": "python",
   "name": "python3"
  },
  "language_info": {
   "codemirror_mode": {
    "name": "ipython",
    "version": 3
   },
   "file_extension": ".py",
   "mimetype": "text/x-python",
   "name": "python",
   "nbconvert_exporter": "python",
   "pygments_lexer": "ipython3",
   "version": "3.12.3"
  }
 },
 "nbformat": 4,
 "nbformat_minor": 2
}
