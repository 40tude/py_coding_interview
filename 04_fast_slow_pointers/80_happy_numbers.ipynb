{
 "cells": [
  {
   "cell_type": "markdown",
   "metadata": {},
   "source": [
    "Given an integer determine if is a happy number\n",
    "\n",
    "* p 80\n",
    "* happy : when repeatidly summing the squares of its digits and summing eventually lead to 1\n",
    "* unhappy : never reach 1 (the process gets stuck in a loop)\n",
    "\n",
    "Exampel: 23 is happy, 116 is unhappy\n",
    "\n",
    "Similar to detecting a loop **BUT** we don't have the linked list (see 04_fast_slow_pointers\\73_linked_list_loop.ipynb)\n",
    "\n",
    "<span style=\"color:orange\"><b>The point:</b></span>\n",
    "* Use 2 ptrs : One fast and one slow\n",
    "* Fast move 2 numbers at a time while slow move one number at a time \n",
    "    *``fast = get_next(get_next(fast))``\n",
    "    *``slow = get_next(slow)``\n",
    "* If they meet => cycle = unhappy\n",
    "* If we reach 1 => happy\n",
    "\n",
    "\n",
    "**Complexity :**\n",
    "\n",
    "| Time | Space |\n",
    "|------|-------|\n",
    "| O(n) | O(1)  |\n",
    "\n",
    "* O(n) because we traverse the list\n",
    "* O(1) in space because no growing datastructure are created\n",
    "\n"
   ]
  },
  {
   "cell_type": "code",
   "execution_count": 3,
   "metadata": {},
   "outputs": [],
   "source": [
    "def get_next_number(x):\n",
    "    next_num=0\n",
    "    while x>0:\n",
    "        digit = x%10\n",
    "        x //= 10\n",
    "        next_num += digit**2 # add the square of the digit to the next number\n",
    "    return next_num"
   ]
  },
  {
   "cell_type": "code",
   "execution_count": 4,
   "metadata": {},
   "outputs": [],
   "source": [
    "def happy_number(n):\n",
    "    slow = fast = n\n",
    "    while True:\n",
    "        slow = get_next_number(slow)\n",
    "        fast = get_next_number(get_next_number(fast))\n",
    "        if fast==1:\n",
    "            return True\n",
    "        if slow==fast:\n",
    "            return False"
   ]
  },
  {
   "cell_type": "code",
   "execution_count": 6,
   "metadata": {},
   "outputs": [
    {
     "name": "stdout",
     "output_type": "stream",
     "text": [
      "False\n",
      "True\n"
     ]
    }
   ],
   "source": [
    "print(happy_number(116))\n",
    "print(happy_number(23))\n",
    "\n"
   ]
  },
  {
   "cell_type": "code",
   "execution_count": 11,
   "metadata": {},
   "outputs": [
    {
     "name": "stderr",
     "output_type": "stream",
     "text": [
      "Execution time: 594_859.70 µs\n"
     ]
    }
   ],
   "source": [
    "import time\n",
    "import sys\n",
    "\n",
    "k_Max = 100_000\n",
    "\n",
    "start_time = time.perf_counter()\n",
    "for i in range(1, k_Max+1):\n",
    "    happy_number(i)\n",
    "end_time = time.perf_counter()\n",
    "print(f\"Execution time: {(end_time - start_time) * 1_000_000 :_.2f} µs\", file=sys.stderr, flush=True)\n"
   ]
  }
 ],
 "metadata": {
  "kernelspec": {
   "display_name": "jedha",
   "language": "python",
   "name": "python3"
  },
  "language_info": {
   "codemirror_mode": {
    "name": "ipython",
    "version": 3
   },
   "file_extension": ".py",
   "mimetype": "text/x-python",
   "name": "python",
   "nbconvert_exporter": "python",
   "pygments_lexer": "ipython3",
   "version": "3.12.3"
  }
 },
 "nbformat": 4,
 "nbformat_minor": 2
}
