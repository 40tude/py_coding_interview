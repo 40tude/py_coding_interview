{
 "cells": [
  {
   "cell_type": "markdown",
   "metadata": {},
   "source": [
    "\n",
    "Given a singly linked list, determine if it contains a cycle\n",
    "* A cycle occurs if a node's next pointer reference an earlier node in the list (causing a loop)\n",
    "\n",
    "<span style=\"color:orange\"><b>The point:</b></span>\n",
    "* Use 2 ptrs \n",
    "* One fast and one slow\n",
    "* fast move 2 steps at a time (``fast = fast.next.next``)\n",
    "* fast ptr will always catch up slow ptr. worst case : k, length of the cycle\n",
    "\n",
    "If no cycle, fast leave the linked list\n",
    "\n",
    "**Complexity :**\n",
    "\n",
    "| Time | Space |\n",
    "|------|-------|\n",
    "| O(n) | O(1)  |\n",
    "\n"
   ]
  },
  {
   "cell_type": "code",
   "execution_count": 1,
   "metadata": {},
   "outputs": [],
   "source": [
    "class List_Node:\n",
    "    def __init__(self, val: int, next):\n",
    "        self.val = val\n",
    "        self.next = next"
   ]
  },
  {
   "cell_type": "code",
   "execution_count": 2,
   "metadata": {},
   "outputs": [],
   "source": [
    "my_list1 = [0, 1, 2, 3, 4, 5]\n",
    "previous_node = None\n",
    "for v in reversed(my_list1):\n",
    "    node = List_Node(v, previous_node)\n",
    "    previous_node = node\n",
    "head = node\n",
    "\n",
    "curr = head\n",
    "while curr.next:\n",
    "    curr = curr.next\n",
    "tail = curr\n",
    "\n",
    "tail.next = head.next.next # node 5 cycle on node 3"
   ]
  },
  {
   "cell_type": "code",
   "execution_count": 3,
   "metadata": {},
   "outputs": [],
   "source": [
    "my_list2 = [0, 1, 2, 3, 4, 5]\n",
    "previous_node = None\n",
    "for v in reversed(my_list2):\n",
    "    node = List_Node(v, previous_node)\n",
    "    previous_node = node\n",
    "head2 = node\n"
   ]
  },
  {
   "cell_type": "code",
   "execution_count": 4,
   "metadata": {},
   "outputs": [],
   "source": [
    "def linked_list_loop_naive(head):\n",
    "    visited = set() # O(n) space\n",
    "    curr = head\n",
    "    while curr:\n",
    "        if curr in visited:\n",
    "            return True\n",
    "        visited.add(curr)\n",
    "        curr = curr.next\n",
    "    return False "
   ]
  },
  {
   "cell_type": "code",
   "execution_count": 5,
   "metadata": {},
   "outputs": [
    {
     "name": "stdout",
     "output_type": "stream",
     "text": [
      "True\n",
      "False\n"
     ]
    }
   ],
   "source": [
    "print(linked_list_loop_naive(head)) # True\n",
    "print(linked_list_loop_naive(head2)) # False"
   ]
  },
  {
   "cell_type": "code",
   "execution_count": null,
   "metadata": {},
   "outputs": [],
   "source": [
    "def linked_list_loop(head):\n",
    "    slow = fast = head\n",
    "    while fast and fast.next:\n",
    "        slow = slow.next\n",
    "        fast = fast.next.next\n",
    "        if fast ==slow:\n",
    "            return True\n",
    "    return False"
   ]
  },
  {
   "cell_type": "code",
   "execution_count": 6,
   "metadata": {},
   "outputs": [
    {
     "name": "stdout",
     "output_type": "stream",
     "text": [
      "True\n",
      "False\n"
     ]
    }
   ],
   "source": [
    "print(linked_list_loop(head)) # True\n",
    "print(linked_list_loop(head2)) # False"
   ]
  }
 ],
 "metadata": {
  "kernelspec": {
   "display_name": "jedha",
   "language": "python",
   "name": "python3"
  },
  "language_info": {
   "codemirror_mode": {
    "name": "ipython",
    "version": 3
   },
   "file_extension": ".py",
   "mimetype": "text/x-python",
   "name": "python",
   "nbconvert_exporter": "python",
   "pygments_lexer": "ipython3",
   "version": "3.12.3"
  }
 },
 "nbformat": 4,
 "nbformat_minor": 2
}
